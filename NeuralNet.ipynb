{
 "cells": [
  {
   "cell_type": "code",
   "execution_count": 87,
   "metadata": {
    "_cell_guid": "79c7e3d0-c299-4dcb-8224-4455121ee9b0",
    "_uuid": "d629ff2d2480ee46fbb7e2d37f6b5fab8052498a"
   },
   "outputs": [],
   "source": [
    "## Deep learning approach using neural networks and pytorch"
   ]
  },
  {
   "cell_type": "code",
   "execution_count": 88,
   "metadata": {},
   "outputs": [],
   "source": [
    "import numpy as np\n",
    "import pandas as pd\n",
    "import seaborn as sns\n",
    "import matplotlib.pyplot as plt\n",
    "%matplotlib inline"
   ]
  },
  {
   "cell_type": "code",
   "execution_count": 89,
   "metadata": {},
   "outputs": [],
   "source": [
    "import torch\n",
    "import torch.nn as nn\n",
    "from numpy import vstack\n",
    "from pandas import read_csv\n",
    "from sklearn.metrics import accuracy_score\n",
    "from torch.utils.data import Dataset\n",
    "from torch.utils.data import DataLoader\n",
    "from torch.utils.data import random_split\n",
    "from torch import Tensor\n",
    "from torch.nn import Linear\n",
    "from torch.nn import ReLU\n",
    "from torch.nn import Sigmoid\n",
    "from torch.nn import Module\n",
    "from torch.optim import Adam\n",
    "from torch.nn import BCELoss\n",
    "from torch.nn.init import kaiming_uniform_\n",
    "from torch.nn.init import xavier_uniform_\n",
    "from torch.nn.init import uniform_\n",
    "from torch.nn.init import normal_\n",
    "from sklearn.preprocessing import StandardScaler\n",
    "from sklearn.decomposition import PCA"
   ]
  },
  {
   "cell_type": "code",
   "execution_count": 90,
   "metadata": {},
   "outputs": [],
   "source": [
    "class create_dataset_pca(Dataset):\n",
    "    #loading the dataset\n",
    "    def __init__(self,train_df):\n",
    "        self.train_df = train_df\n",
    "        self.features = ['mean_sd_integrated','skew_exkurt_integrated','mean_sd_dmsnr','skew_exkurt_dmsnr']\n",
    "        #self.x=train_df.values[:,:-1].astype('float32')\n",
    "        #self.y=train_df.values[:,-1]\n",
    "        \n",
    "    def preprocess(self,train_df):\n",
    "        #pre-processing for integrated data\n",
    "        train_df['mean_sd_integrated'] = train_df['Mean of the integrated profile'] + 3*train_df['Standard deviation of the integrated profile']\n",
    "        train_df['skew_exkurt_integrated'] = train_df['Skewness of the integrated profile']+train_df['Excess kurtosis of the integrated profile']\n",
    "        train_df.drop(['Mean of the integrated profile','Standard deviation of the integrated profile','Skewness of the integrated profile','Excess kurtosis of the integrated profile'],axis=1,inplace = True)\n",
    "        #pre-processing for DM-SNR data\n",
    "        train_df['mean_sd_dmsnr'] = train_df['Mean of the DM-SNR curve'] + 3*train_df['Standard deviation of the DM-SNR curve']\n",
    "        train_df['skew_exkurt_dmsnr'] = train_df['Skewness of the DM-SNR curve']+train_df['Excess kurtosis of the DM-SNR curve']\n",
    "        train_df.drop(['Mean of the DM-SNR curve','Standard deviation of the DM-SNR curve','Skewness of the DM-SNR curve','Excess kurtosis of the DM-SNR curve'],axis=1,inplace = True)\n",
    "        x = train_df.loc[:, self.features].values\n",
    "        y = train_df.loc[:,['target_class']].values\n",
    "        y=y.reshape(len(y),1)\n",
    "        x=self.apply_standardscaler(train_df)\n",
    "        return x,y\n",
    "    def apply_standardscaler(self,train_df):\n",
    "        df=train_df\n",
    "        features = ['mean_sd_integrated','skew_exkurt_integrated','mean_sd_dmsnr','skew_exkurt_dmsnr']\n",
    "        X = df.loc[:, features].values\n",
    "        X = StandardScaler().fit_transform(X)\n",
    "        X = X.astype('float32')\n",
    "        return X\n",
    "    def apply_pca(self,n_components,X):\n",
    "        pca = PCA(n_components)\n",
    "        principalComponents = pca.fit_transform(X)\n",
    "        principalDf = pd.DataFrame(data = principalComponents\n",
    "                     , columns = ['pc1','pc2','pc3'])\n",
    "        X=principalDf.values[:]\n",
    "        return X\n",
    "        "
   ]
  },
  {
   "cell_type": "code",
   "execution_count": 91,
   "metadata": {},
   "outputs": [],
   "source": [
    "#data loaders\n",
    "class trainData(Dataset):\n",
    "    def __init__(self,x_data,y_data):\n",
    "        self.x_data = x_data\n",
    "        self.y_data = y_data\n",
    "    def __getitem__(self,index):\n",
    "        return self.x_data[index] , self.y_data[index]\n",
    "    def __len__(self):\n",
    "        return len(self.x_data)\n",
    "        \n",
    "class testData(Dataset):\n",
    "    def __init__(self,x_data,y_data):\n",
    "        self.x_data = x_data\n",
    "        self.y_data = y_data\n",
    "    def __getitem__(self,index):\n",
    "        return self.x_data[index] , self.y_data[index]\n",
    "    def __len__(self):\n",
    "        return len(self.x_data)\n",
    "    \n"
   ]
  },
  {
   "cell_type": "code",
   "execution_count": 92,
   "metadata": {},
   "outputs": [],
   "source": [
    "def check_pca_comp(x):\n",
    "    #code for choosing the cumulative variance explained vs number of principal components. \n",
    "    from sklearn.decomposition import PCA\n",
    "    pca_test = PCA().fit(x)\n",
    "    plt.plot(np.cumsum(pca_test.explained_variance_ratio_))\n",
    "    plt.xlabel('number of components')\n",
    "    plt.ylabel('cumulative explained variance')\n",
    "    #pca = PCA(.96)\n",
    "    #pca.fit(x)\n",
    "    #pca.n_components_"
   ]
  },
  {
   "cell_type": "code",
   "execution_count": 93,
   "metadata": {},
   "outputs": [
    {
     "data": {
      "image/png": "[encoded data removed]",
      "text/plain": [
       "<Figure size 432x288 with 1 Axes>"
      ]
     },
     "metadata": {
      "needs_background": "light"
     },
     "output_type": "display_data"
    }
   ],
   "source": [
    "##creation of the dataset\n",
    "train_load=pd.read_excel('../input/pulsarml/Training_PulsarStars.xlsx')\n",
    "train_load.to_csv('Training_PulsarStars.csv',index=None,header=True)\n",
    "dataset = create_dataset_pca(train_load)\n",
    "x,y = dataset.preprocess(train_load)\n",
    "##check to choose the number of components to be used in pca.\n",
    "check_pca_comp(x)\n",
    "num_comp_pca = 3\n",
    "X = dataset.apply_pca(num_comp_pca,x)\n",
    "##test_train split for data\n",
    "from sklearn.model_selection import train_test_split\n",
    "X_train, X_test, y_train, y_test = train_test_split(X , y, test_size=0.2,random_state=42)"
   ]
  },
  {
   "cell_type": "code",
   "execution_count": 94,
   "metadata": {},
   "outputs": [
    {
     "data": {
      "text/html": [
       "<div>\n",
       "<style scoped>\n",
       "    .dataframe tbody tr th:only-of-type {\n",
       "        vertical-align: middle;\n",
       "    }\n",
       "\n",
       "    .dataframe tbody tr th {\n",
       "        vertical-align: top;\n",
       "    }\n",
       "\n",
       "    .dataframe thead th {\n",
       "        text-align: right;\n",
       "    }\n",
       "</style>\n",
       "<table border=\"1\" class=\"dataframe\">\n",
       "  <thead>\n",
       "    <tr style=\"text-align: right;\">\n",
       "      <th></th>\n",
       "      <th>target_class</th>\n",
       "      <th>mean_sd_integrated</th>\n",
       "      <th>skew_exkurt_integrated</th>\n",
       "      <th>mean_sd_dmsnr</th>\n",
       "      <th>skew_exkurt_dmsnr</th>\n",
       "    </tr>\n",
       "  </thead>\n",
       "  <tbody>\n",
       "    <tr>\n",
       "      <th>0</th>\n",
       "      <td>0</td>\n",
       "      <td>307.613846</td>\n",
       "      <td>-0.934220</td>\n",
       "      <td>60.531112</td>\n",
       "      <td>82.217757</td>\n",
       "    </tr>\n",
       "    <tr>\n",
       "      <th>1</th>\n",
       "      <td>0</td>\n",
       "      <td>279.155103</td>\n",
       "      <td>-0.049770</td>\n",
       "      <td>46.257695</td>\n",
       "      <td>137.970066</td>\n",
       "    </tr>\n",
       "    <tr>\n",
       "      <th>2</th>\n",
       "      <td>0</td>\n",
       "      <td>221.040573</td>\n",
       "      <td>1.374493</td>\n",
       "      <td>68.355244</td>\n",
       "      <td>70.907731</td>\n",
       "    </tr>\n",
       "    <tr>\n",
       "      <th>3</th>\n",
       "      <td>0</td>\n",
       "      <td>308.285346</td>\n",
       "      <td>-0.704653</td>\n",
       "      <td>66.520817</td>\n",
       "      <td>60.490160</td>\n",
       "    </tr>\n",
       "    <tr>\n",
       "      <th>4</th>\n",
       "      <td>0</td>\n",
       "      <td>210.743239</td>\n",
       "      <td>1.724358</td>\n",
       "      <td>35.585089</td>\n",
       "      <td>266.836879</td>\n",
       "    </tr>\n",
       "  </tbody>\n",
       "</table>\n",
       "</div>"
      ],
      "text/plain": [
       "   target_class  mean_sd_integrated  skew_exkurt_integrated  mean_sd_dmsnr  \\\n",
       "0             0          307.613846               -0.934220      60.531112   \n",
       "1             0          279.155103               -0.049770      46.257695   \n",
       "2             0          221.040573                1.374493      68.355244   \n",
       "3             0          308.285346               -0.704653      66.520817   \n",
       "4             0          210.743239                1.724358      35.585089   \n",
       "\n",
       "   skew_exkurt_dmsnr  \n",
       "0          82.217757  \n",
       "1         137.970066  \n",
       "2          70.907731  \n",
       "3          60.490160  \n",
       "4         266.836879  "
      ]
     },
     "execution_count": 94,
     "metadata": {},
     "output_type": "execute_result"
    }
   ],
   "source": [
    "train_load.head()"
   ]
  },
  {
   "cell_type": "code",
   "execution_count": 95,
   "metadata": {},
   "outputs": [],
   "source": [
    "train_data = trainData(torch.FloatTensor(X_train), \n",
    "                       torch.FloatTensor(y_train))\n",
    "test_data = testData(torch.FloatTensor(X_test),torch.FloatTensor(y_test))\n",
    "##setting the requirements\n",
    "BATCH_SIZE = 32\n",
    "#creating the dataloader\n",
    "train_loader = DataLoader(dataset=train_data, batch_size=BATCH_SIZE, shuffle=True)\n",
    "test_loader = DataLoader(dataset=test_data, batch_size=1,shuffle =False)"
   ]
  },
  {
   "cell_type": "code",
   "execution_count": 96,
   "metadata": {},
   "outputs": [],
   "source": [
    "#Defining our model"
   ]
  },
  {
   "cell_type": "code",
   "execution_count": 97,
   "metadata": {},
   "outputs": [],
   "source": [
    "#device = torch.device(\"cuda:0\" if torch.cuda.is_available() else \"cpu\")\n",
    "#print(device)"
   ]
  },
  {
   "cell_type": "code",
   "execution_count": 98,
   "metadata": {},
   "outputs": [],
   "source": [
    "class NeuralNet(nn.Module):\n",
    "    def __init__(self, n_inputs):\n",
    "        super(NeuralNet, self).__init__()\n",
    "        self.hidden1 = Linear(n_inputs, 32)\n",
    "        normal_(self.hidden1.weight)\n",
    "        self.act1 = ReLU()\n",
    "        self.drop1 = nn.Dropout(p=0.1)\n",
    "        self.hidden2 = Linear(32, 16)\n",
    "        normal_(self.hidden2.weight)\n",
    "        self.act2 = ReLU()\n",
    "        self.drop2 = nn.Dropout(p=0.1)\n",
    "        self.hidden3 = Linear(16, 1)\n",
    "        xavier_uniform_(self.hidden3.weight)\n",
    "        self.act3 = Sigmoid()\n",
    " \n",
    "    def forward(self, X):\n",
    "        X = self.hidden1(X)\n",
    "        X = self.act1(X)\n",
    "        X = self.drop1(X)\n",
    "        X = self.hidden2(X)\n",
    "        X = self.act2(X)\n",
    "        X = self.drop2(X)\n",
    "        X = self.hidden3(X)\n",
    "        X = self.act3(X)\n",
    "        return X"
   ]
  },
  {
   "cell_type": "code",
   "execution_count": 99,
   "metadata": {},
   "outputs": [],
   "source": [
    "def train_model(train_dl, model,epoch_num):\n",
    "    criterion = BCELoss()\n",
    "    optimizer = Adam(model.parameters(), lr=0.03)\n",
    "    for epoch in range(epoch_num):\n",
    "        epoch_loss=0\n",
    "        for i, (inputs, targets) in enumerate(train_loader):\n",
    "            #inputs = inputs.to(device)\n",
    "            #targets = targets.to(device)\n",
    "            optimizer.zero_grad()\n",
    "            y_fit = model(inputs)\n",
    "            loss = criterion(y_fit, targets)\n",
    "            loss.backward()\n",
    "            optimizer.step()\n",
    "            epoch_loss += loss.item()\n",
    "        print(f'Epoch {epoch+0:03}: | Loss:{epoch_loss/len(train_loader):.5f}')    "
   ]
  },
  {
   "cell_type": "code",
   "execution_count": 100,
   "metadata": {},
   "outputs": [],
   "source": [
    "def evaluate_model(test_dl, model):\n",
    "    predictions, actuals = list(), list()\n",
    "    for i, (inputs, targets) in enumerate(test_loader):\n",
    "        #inputs = inputs.to(device)\n",
    "        #targets = targets.to(device)\n",
    "        y_fit = model(inputs)\n",
    "        y_fit = y_fit.detach().numpy()\n",
    "        actual = targets.numpy()\n",
    "        actual = actual.reshape((len(actual), 1))\n",
    "        y_fit = y_fit.round()\n",
    "        predictions.append(y_fit)\n",
    "        actuals.append(actual)\n",
    "    predictions, actuals = vstack(predictions), vstack(actuals)\n",
    "    acc = accuracy_score(actuals, predictions)\n",
    "    return acc"
   ]
  },
  {
   "cell_type": "code",
   "execution_count": 101,
   "metadata": {},
   "outputs": [
    {
     "name": "stdout",
     "output_type": "stream",
     "text": [
      "Epoch 000: | Loss:0.32013\n",
      "Epoch 001: | Loss:0.13221\n",
      "Epoch 002: | Loss:0.13184\n",
      "Epoch 003: | Loss:0.12791\n",
      "Epoch 004: | Loss:0.12474\n",
      "Epoch 005: | Loss:0.13465\n",
      "Epoch 006: | Loss:0.12892\n",
      "Epoch 007: | Loss:0.12859\n",
      "Epoch 008: | Loss:0.12581\n",
      "Epoch 009: | Loss:0.13599\n",
      "Epoch 010: | Loss:0.13727\n",
      "Epoch 011: | Loss:0.12679\n",
      "Epoch 012: | Loss:0.12758\n",
      "Epoch 013: | Loss:0.12976\n",
      "Epoch 014: | Loss:0.12667\n",
      "Epoch 015: | Loss:0.12906\n",
      "Epoch 016: | Loss:0.13654\n",
      "Epoch 017: | Loss:0.12522\n",
      "Epoch 018: | Loss:0.12739\n",
      "Epoch 019: | Loss:0.12672\n",
      "Epoch 020: | Loss:0.12645\n",
      "Epoch 021: | Loss:0.13967\n",
      "Epoch 022: | Loss:0.13581\n",
      "Epoch 023: | Loss:0.12734\n"
     ]
    }
   ],
   "source": [
    "EPOCH=24\n",
    "model = NeuralNet(num_comp_pca)\n",
    "#model.to(device)\n",
    "train_model(train_loader,model,EPOCH)"
   ]
  },
  {
   "cell_type": "code",
   "execution_count": 102,
   "metadata": {},
   "outputs": [
    {
     "name": "stdout",
     "output_type": "stream",
     "text": [
      "Accuracy: 0.955\n"
     ]
    }
   ],
   "source": [
    "#evaluate_model(test_loader, model)\n",
    "acc = evaluate_model(test_loader, model)\n",
    "print('Accuracy: %.3f' % acc)"
   ]
  },
  {
   "cell_type": "code",
   "execution_count": null,
   "metadata": {},
   "outputs": [],
   "source": []
  },
  {
   "cell_type": "code",
   "execution_count": null,
   "metadata": {},
   "outputs": [],
   "source": []
  },
  {
   "cell_type": "code",
   "execution_count": null,
   "metadata": {},
   "outputs": [],
   "source": []
  }
 ],
 "metadata": {
  "kernelspec": {
   "display_name": "Python 3",
   "language": "python",
   "name": "python3"
  },
  "language_info": {
   "codemirror_mode": {
    "name": "ipython",
    "version": 3
   },
   "file_extension": ".py",
   "mimetype": "text/x-python",
   "name": "python",
   "nbconvert_exporter": "python",
   "pygments_lexer": "ipython3",
   "version": "3.7.3"
  }
 },
 "nbformat": 4,
 "nbformat_minor": 4
}
